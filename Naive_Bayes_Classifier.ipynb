{
 "cells": [
  {
   "cell_type": "code",
   "execution_count": 1,
   "metadata": {},
   "outputs": [],
   "source": [
    "from Sastrawi.Stemmer.StemmerFactory import StemmerFactory\n",
    "from Sastrawi.StopWordRemover.StopWordRemoverFactory import StopWordRemoverFactory\n",
    "import math\n",
    "import re\n",
    "import pandas as pd"
   ]
  },
  {
   "cell_type": "code",
   "execution_count": 2,
   "metadata": {},
   "outputs": [],
   "source": [
    "stemm = StemmerFactory()\n",
    "stemmer = stemm.create_stemmer()\n",
    "stop = StopWordRemoverFactory()\n",
    "stopwords = stop.get_stop_words()"
   ]
  },
  {
   "cell_type": "code",
   "execution_count": 3,
   "metadata": {},
   "outputs": [],
   "source": [
    "data = pd.read_csv(\"E:\\Programming\\Python\\Text Mining\\document-classifier-naive-bayes\\dataset.csv\", encoding = \"ISO-8859-1\")"
   ]
  },
  {
   "cell_type": "markdown",
   "metadata": {},
   "source": [
    "### Get komentar"
   ]
  },
  {
   "cell_type": "code",
   "execution_count": 4,
   "metadata": {},
   "outputs": [],
   "source": [
    "desc = data.loc[:,'Komentar']"
   ]
  },
  {
   "cell_type": "markdown",
   "metadata": {},
   "source": [
    "### Menghapus berbagai simbol pada kata"
   ]
  },
  {
   "cell_type": "code",
   "execution_count": 5,
   "metadata": {},
   "outputs": [
    {
     "name": "stderr",
     "output_type": "stream",
     "text": "C:\\ProgramData\\Anaconda3\\lib\\site-packages\\ipykernel_launcher.py:10: SettingWithCopyWarning: \nA value is trying to be set on a copy of a slice from a DataFrame\n\nSee the caveats in the documentation: http://pandas.pydata.org/pandas-docs/stable/user_guide/indexing.html#returning-a-view-versus-a-copy\n  # Remove the CWD from sys.path while we load stuff.\n"
    }
   ],
   "source": [
    "for i, val in enumerate(desc):\n",
    "    desc[i] = (\n",
    "        val.replace(\";\", \"\")\n",
    "        .replace(\",\", \"\")\n",
    "        .replace(\".\", \" \") # Tambah spasi biar kata yang dipisah sama titik bisa dipisah\n",
    "        .replace(\"?\", \"\")\n",
    "        .replace(\"-\", \" \")\n",
    "        .replace(\"/\", \" \")\n",
    "        .replace(\"(\", \"\")\n",
    "        .replace(\")\", \"\")\n",
    "    )"
   ]
  },
  {
   "cell_type": "markdown",
   "metadata": {},
   "source": [
    "### Functions"
   ]
  },
  {
   "cell_type": "code",
   "execution_count": 6,
   "metadata": {},
   "outputs": [],
   "source": [
    "def tokenisasi_kata(sentences):\n",
    "    tokenizing = []\n",
    "    for val in sentences:\n",
    "        for value in val.split():\n",
    "            tokenizing.append(value)\n",
    "\n",
    "    return tokenizing\n",
    "\n",
    "def memfilter(doc):\n",
    "    filtering = []\n",
    "    for i in doc:\n",
    "        if i not in stopwords:\n",
    "            filtering.append(i)\n",
    "\n",
    "    filtering = list((filtering))\n",
    "    return filtering\n",
    "\n",
    "def menstem(doc1):\n",
    "    stemming = []\n",
    "    for i in memfilter(doc1):\n",
    "        stemming.append(stemmer.stem(i))\n",
    "\n",
    "    stemming = list((stemming))\n",
    "    return stemming\n",
    "\n",
    "def getFreq(dicti, word):\n",
    "    for word in word:\n",
    "        if word not in dicti:\n",
    "            continue\n",
    "        dicti[word] += 1\n",
    "\n",
    "    return dicti"
   ]
  },
  {
   "cell_type": "markdown",
   "metadata": {},
   "source": [
    "### Tokenisasi"
   ]
  },
  {
   "cell_type": "code",
   "execution_count": 7,
   "metadata": {},
   "outputs": [
    {
     "name": "stdout",
     "output_type": "stream",
     "text": "Tokenizing : ['MRT', 'transportasi', 'yg', 'nyaman', 'bersih', 'pelayannya', 'ramah', 'dan', 'murah', 'tetap', 'selalu', 'terjaga', 'ke', 'bersihan', 'ny', 'selain', 'itu', 'MRT', 'emng', 'benar\"cepat', 'laju', 'ny', 'Aman', 'nyaman', 'tepat', 'waktu', 'dan', 'menarik', 'banyak', 'aktifitas', 'musik', 'dsb', 'sesuai', 'dengan', 'harganya', 'sangat', 'memuaskan', 'pertahankan', 'pelayanannya', 'di', 'segala', 'bagian', 'MANTAP', 'Terimakasih', 'untuk', 'manajemen', 'MRT', 'kemarin', 'termos', 'kesayangan', 'Saya', 'ketinggalan', 'di', 'toilet', 'MRT', 'Dukuh', 'Atas', '2', 'jam', 'kemudian', 'Saya', 'cari', 'tanya', 'ke', 'security', 'ternyata', 'masih', 'ada', 'Seneng', 'aku', 'ada', 'MRT', 'Jadi', 'makin', 'cepet', 'sampe', 'kantor', 'dan', 'balim', 'kerumah', 'Masukan', 'aja', 'untuk', 'mesing', 'single', 'trip', 'nya', 'mohon', 'di', 'banahi', 'Agar', 'berfungsi', 'dengan', 'baik', 'MRT', 'Jakarta', 'terlalu', 'bersih', 'MaasyaAllah', 'keren', 'banget', 'program', 'nya', 'Baca', 'lagi', 'baca', 'dulu', 'dan', 'baca', 'terus!', 'Keren', 'MRT!', 'MRT', 'keren', 'nih', 'idenya', 'Kagum', 'pada', 'MRT', 'tadi', 'pp', 'naik', 'mrt', 'masih', 'aja', 'bangga', 'ya', 'hihi', 'agak', 'norak', 'nih', 'naik', 'mrt', 'di', 'negara', 'sendiri', 'lalu', 'teman', 'lanjut', 'nyambung', 'busway', 'bus', 'nya', 'dah', 'keren', 'asyik', 'Senang', 'dgn', 'mrt', 'jkt', 'dingin', 'dan', 'suara', 'kereta', 'yg', 'halus', 'Ada', 'hal', 'yang', 'aku', 'suka', 'dari', 'MRT', 'yaitu', 'ketika', 'naik', 'kereta', 'MRT', 'berdiri', 'Meski', 'dengan', 'posisi', 'berdiri', 'dan', 'tanpa', 'berpegangan', 'getaran', 'dan', 'guncangan', 'saat', 'kereta', 'melaju', 'itu', 'hampir', 'gak', 'terasa', 'akselerasi', 'dan', 'pengeremannya', 'pun', 'juga', 'halus', 'jadi', 'gak', 'khawatir', 'tiba2', 'terpental', 'Kalau', 'menilik', 'teknologi', 'infrastrukturnya', 'sendiri', 'udah', 'sejajar', 'sama', 'Kereta', 'HSR', 'Shinkansen', 'yang', 'Bantalan', 'Rel', 'nya', 'pakai', 'cor', 'beton', 'Slab', 'Track', 'jadi', 'lebih', 'rata', 'dan', 'sejajar', 'Kata', 'bos', 'aku', 'MRT', 'bikin', 'ketagihan', 'pengen', 'naik', 'terus', 'Tadinya', 'gw', 'bawa', 'motor', 'atau', 'kadang', 'mbl', 'Tp', 'sejak', 'ada', 'MRT', 'dan', 'untungnya', 'kantor', 'gw', 'bisa', 'diakses', 'MRT', 'Gw', 'jd', 'sering', 'naik', 'MRT', 'dan', 'Transjakarta', 'Kadang', 'juga', 'bawa', 'sepeda', 'nyaman', 'bgt', 'bawa', 'sepeda', 'ke', 'MRT', 'Gara2', 'ketagihan', 'naik', 'MRT', 'jadi', 'mikir', 'pengen', 'move', 'on', 'ke', 'daerah', 'sekitaran', 'cipete', 'biar', 'tiap', 'hari', 'kalo', 'berangkat', 'dan', 'pulang', 'kerja', 'naik', 'MRT', 'terus', 'Tolong', 'di', 'kasih', 'nomor', 'pengaduan', 'ke', 'satpol', 'PP', 'di', 'pasang', 'di', 'papan', 'informasi', 'biar', 'masyarakat', 'yg', 'menemukan', 'pelanggaran', 'agara', 'segera', 'menghubungi', 'satpol', 'PP', 'atau', 'polisi', 'Halo', 'BISA', 'GAK', 'SIH', 'Kalau', 'bikin', 'announcement', 'itu', 'yg', 'simpel2', 'aja', 'gitu', 'gak', 'usah', 'bertele2', 'pakai', 'kalimat', '\"Kami', 'Himbau\"', 'melulu', 'tiap', 'stasiun', 'Kayanya', 'makin', 'banyak', 'aja', 'pengumuman', 'begitu', 'BERISIK', 'TAU', 'GAK!!', 'Bikin', 'pengen', 'tutup', 'kuping', 'pake', 'headset', 'Min', 'mohon', 'perbaikannya', 'di', 'stasiun', 'mrt', 'cipete', 'Udah', 'berhari2', '@mrtjakarta', 'pagi', 'tolong', 'di', 'benerin', 'yaa', 'dukuh', 'atas', 'BNI', 'arah', 'Thx', 'Halo', '@mrtjakarta', 'mohon', 'penjelasannya!', 'Emoney', 'saya', 'dianggap', 'tdk', 'tap', 'keluar', 'dr', 'st', 'istora', 'tgl', '27', 'sep', 'pdhl', 'saya', 'tap', 'di', 'gate', 'dan', 'bs', 'keluar', 'dr', 'stasiun', 'Trs', 'dikenakan', 'cas', '14rb', 'Ini', 'bukan', 'kesalahan', 'saya', 'tp', 'sistem', 'gate', 'mrt', 'harusnya', 'saya', 'tdk', 'disuruh', 'bayar', 'Thx', 'Emg', 'mesin', 'tap', 'mrt', 'jakarta', 'bapuk', 'bgt', 'udahlah', 'bacanya', 'lama', 'bikin', 'ngantri', 'sering', 'error', 'pula', '@mrtjakarta', 'station', 'setia', 'budi', 'astra', 'AC', 'mati', 'dan', 'panas', 'infonya', 'dari', 'jam', '14', '00', 'sampai', 'sekarang', 'belum', 'ada', 'perubahan', 'Barusan', 'di', 'stasiun', '@mrtjakarta', 'Bundaran', 'HI', 'ada', 'X', 'ray', 'scanning', 'terus', 'gunting', 'w', 'diambil', 'Katanya', 'gunting', 'ga', 'boleh', 'masuk', 'ke', 'MRT', 'Trus', 'w', 'mikir', 'gimana', 'nasib', 'orang', 'commuting', 'buat', 'kerja', 'yang', 'mesti', 'bawa', 'gunting', 'tiap', 'hari', 'Apa', 'MRT', 'buat', 'yang', 'kerjanya', 'bawa', 'laptop', 'dan', 'buku', 'doang', 'Hallo', '@mrtjakarta', 'sekedar', 'masukan', 'untuk', 'petugas', 'gate', 'masuk', 'jgn', 'asal', 'main', 'buka', 'resleting', 'tas', 'orang', 'yaa', 'harusnya', 'mereka', 'minta', 'permisi', 'or', 'at', 'least', 'biar', 'penumpang', 'yg', 'buka', 'sendiri', 'di', 'depan', 'petugas', 'When', 'I', 'travel', 'overseas', 'petugas', 'di', 'public', 'area', 'sll', 'bilang', 'please', 'open', 'before', 'do', 'that', 'Ini', 'perasaan', 'saya', 'aja', 'atau', 'emang', 'stasiun', 'MRT', 'Setia', 'Budi', 'AC', 'nya', 'g', 'Nyala', '@mrtjakarta', 'Dear', '@mrtjakarta', '@DKIJakarta', 'ini', 'menghambat', 'akses', 'masuk', 'ke', 'stasiun', 'lokasi', 'akses', 'pintu', 'masuk', 'keluar', 'arah', 'Transit', 'Parkir', 'dan', 'Akses', ':', 'ke', 'TransJakarta', 'Usul', 'harga', 'tiket', 'MRT', 'Jakarta', 'dinaikkan', 'tapi', 'sebagai', 'gantinya', 'keretanya', 'diperbanyak', 'Jadi', 'pengguna', 'mobil', 'dan', 'motor', 'mau', 'beralih', 'Bila', 'pengguna', 'mobil', 'tidak', 'beralih', 'ke', 'MRT', 'sama', 'saja', 'tetap', 'macet', 'Trotoar', 'dari', 'Park', '&', 'Ride', 'dikasih', 'atap', 'juga', 'dong', 'kalo', 'bisa', 'Hujan', 'gmn', 'tuh', 'tar', 'Jangan', 'yg', 'dari', 'poins', 'square', 'aja', 'yg', 'dikasih', 'atap', 'Jauh', 'loh', 'itu', '500m', 'ada', 'kali', 'gak', 'usah', 'dihimbau', 'himbau', 'kalau', 'memang', 'ada', 'aturannya', 'dilarang', 'dan', 'didenda', 'aja', 'penegakan', 'peraturan', 'harus', 'pakai', 'bahasa', 'yg', 'tegas', 'bahasa', 'yg', 'lembek', 'sama', 'juga', 'artinya', 'lembek', 'dalam', 'penegakan', 'peraturan', 'Sistem', 'yg', 'sangat', 'aneh', 'Masak', 'turun', 'dr', 'halte', 'busway', 'HI', 'lanjut', 'MRT', 'kartu', 'flazz', 'nya', 'gak', 'bisa', 'dipake', 'di', 'MRT', 'dgn', 'alasan', 'yg', 'sama', 'Pdhal', 'kan', 'pas', 'mau', 'msk', 'sta', 'MRT', 'nya', 'itu', 'kita', 'nge', 'tap', 'keluar', 'dr', 'halte', 'busway', 'hitungannya', 'Ttp', 'aja', 'dianggap', 'sdh', 'nge', 'tap', 'di', 'stasiun', 'yg', 'sama', 'Fix', 'this', 'please!'] \n\n"
    }
   ],
   "source": [
    "word_tokenized = tokenisasi_kata(desc)\n",
    "print(\"Tokenizing :\", word_tokenized, \"\\n\")"
   ]
  },
  {
   "cell_type": "markdown",
   "metadata": {},
   "source": [
    "### Filtering stop words"
   ]
  },
  {
   "cell_type": "code",
   "execution_count": 8,
   "metadata": {},
   "outputs": [
    {
     "name": "stdout",
     "output_type": "stream",
     "text": "filtering :  ['MRT', 'transportasi', 'yg', 'nyaman', 'bersih', 'pelayannya', 'ramah', 'murah', 'tetap', 'selalu', 'terjaga', 'bersihan', 'ny', 'MRT', 'emng', 'benar\"cepat', 'laju', 'ny', 'Aman', 'nyaman', 'tepat', 'waktu', 'menarik', 'banyak', 'aktifitas', 'musik', 'sesuai', 'harganya', 'sangat', 'memuaskan', 'pertahankan', 'pelayanannya', 'segala', 'bagian', 'MANTAP', 'Terimakasih', 'manajemen', 'MRT', 'kemarin', 'termos', 'kesayangan', 'Saya', 'ketinggalan', 'toilet', 'MRT', 'Dukuh', 'Atas', '2', 'jam', 'kemudian', 'Saya', 'cari', 'tanya', 'security', 'ternyata', 'Seneng', 'aku', 'MRT', 'Jadi', 'makin', 'cepet', 'sampe', 'kantor', 'balim', 'kerumah', 'Masukan', 'aja', 'mesing', 'single', 'trip', 'nya', 'mohon', 'banahi', 'Agar', 'berfungsi', 'baik', 'MRT', 'Jakarta', 'terlalu', 'bersih', 'MaasyaAllah', 'keren', 'banget', 'program', 'nya', 'Baca', 'baca', 'dulu', 'baca', 'terus!', 'Keren', 'MRT!', 'MRT', 'keren', 'nih', 'idenya', 'Kagum', 'MRT', 'tadi', 'pp', 'naik', 'mrt', 'aja', 'bangga', 'hihi', 'norak', 'nih', 'naik', 'mrt', 'negara', 'sendiri', 'lalu', 'teman', 'lanjut', 'nyambung', 'busway', 'bus', 'nya', 'dah', 'keren', 'asyik', 'Senang', 'dgn', 'mrt', 'jkt', 'dingin', 'suara', 'kereta', 'yg', 'halus', 'Ada', 'aku', 'suka', 'MRT', 'naik', 'kereta', 'MRT', 'berdiri', 'Meski', 'posisi', 'berdiri', 'berpegangan', 'getaran', 'guncangan', 'kereta', 'melaju', 'hampir', 'gak', 'terasa', 'akselerasi', 'pengeremannya', 'halus', 'jadi', 'gak', 'khawatir', 'tiba2', 'terpental', 'Kalau', 'menilik', 'teknologi', 'infrastrukturnya', 'sendiri', 'udah', 'sejajar', 'sama', 'Kereta', 'HSR', 'Shinkansen', 'Bantalan', 'Rel', 'nya', 'pakai', 'cor', 'beton', 'Slab', 'Track', 'jadi', 'lebih', 'rata', 'sejajar', 'Kata', 'bos', 'aku', 'MRT', 'bikin', 'ketagihan', 'pengen', 'naik', 'terus', 'Tadinya', 'gw', 'bawa', 'motor', 'kadang', 'mbl', 'Tp', 'sejak', 'MRT', 'untungnya', 'kantor', 'gw', 'diakses', 'MRT', 'Gw', 'jd', 'sering', 'naik', 'MRT', 'Transjakarta', 'Kadang', 'bawa', 'sepeda', 'nyaman', 'bgt', 'bawa', 'sepeda', 'MRT', 'Gara2', 'ketagihan', 'naik', 'MRT', 'jadi', 'mikir', 'pengen', 'move', 'on', 'daerah', 'sekitaran', 'cipete', 'biar', 'tiap', 'hari', 'kalo', 'berangkat', 'pulang', 'kerja', 'naik', 'MRT', 'terus', 'Tolong', 'kasih', 'nomor', 'pengaduan', 'satpol', 'PP', 'pasang', 'papan', 'informasi', 'biar', 'masyarakat', 'yg', 'menemukan', 'pelanggaran', 'agara', 'segera', 'menghubungi', 'satpol', 'PP', 'polisi', 'Halo', 'BISA', 'GAK', 'SIH', 'Kalau', 'bikin', 'announcement', 'yg', 'simpel2', 'aja', 'gitu', 'gak', 'usah', 'bertele2', 'pakai', 'kalimat', '\"Kami', 'Himbau\"', 'melulu', 'tiap', 'stasiun', 'Kayanya', 'makin', 'banyak', 'aja', 'pengumuman', 'BERISIK', 'TAU', 'GAK!!', 'Bikin', 'pengen', 'tutup', 'kuping', 'pake', 'headset', 'Min', 'mohon', 'perbaikannya', 'stasiun', 'mrt', 'cipete', 'Udah', 'berhari2', '@mrtjakarta', 'pagi', 'benerin', 'yaa', 'dukuh', 'atas', 'BNI', 'arah', 'Thx', 'Halo', '@mrtjakarta', 'mohon', 'penjelasannya!', 'Emoney', 'dianggap', 'tdk', 'tap', 'keluar', 'dr', 'st', 'istora', 'tgl', '27', 'sep', 'pdhl', 'tap', 'gate', 'bs', 'keluar', 'dr', 'stasiun', 'Trs', 'dikenakan', 'cas', '14rb', 'Ini', 'bukan', 'kesalahan', 'tp', 'sistem', 'gate', 'mrt', 'harusnya', 'tdk', 'disuruh', 'bayar', 'Thx', 'Emg', 'mesin', 'tap', 'mrt', 'jakarta', 'bapuk', 'bgt', 'udahlah', 'bacanya', 'lama', 'bikin', 'ngantri', 'sering', 'error', '@mrtjakarta', 'station', 'setia', 'budi', 'astra', 'AC', 'mati', 'panas', 'infonya', 'jam', '14', '00', 'sekarang', 'perubahan', 'Barusan', 'stasiun', '@mrtjakarta', 'Bundaran', 'HI', 'X', 'ray', 'scanning', 'terus', 'gunting', 'w', 'diambil', 'Katanya', 'gunting', 'ga', 'masuk', 'MRT', 'Trus', 'w', 'mikir', 'gimana', 'nasib', 'orang', 'commuting', 'buat', 'kerja', 'mesti', 'bawa', 'gunting', 'tiap', 'hari', 'Apa', 'MRT', 'buat', 'kerjanya', 'bawa', 'laptop', 'buku', 'doang', 'Hallo', '@mrtjakarta', 'sekedar', 'masukan', 'petugas', 'gate', 'masuk', 'jgn', 'asal', 'main', 'buka', 'resleting', 'tas', 'orang', 'yaa', 'harusnya', 'minta', 'permisi', 'or', 'at', 'least', 'biar', 'penumpang', 'yg', 'buka', 'sendiri', 'depan', 'petugas', 'When', 'I', 'travel', 'overseas', 'petugas', 'public', 'area', 'sll', 'bilang', 'please', 'open', 'before', 'do', 'that', 'Ini', 'perasaan', 'aja', 'emang', 'stasiun', 'MRT', 'Setia', 'Budi', 'AC', 'nya', 'g', 'Nyala', '@mrtjakarta', 'Dear', '@mrtjakarta', '@DKIJakarta', 'menghambat', 'akses', 'masuk', 'stasiun', 'lokasi', 'akses', 'pintu', 'masuk', 'keluar', 'arah', 'Transit', 'Parkir', 'Akses', ':', 'TransJakarta', 'Usul', 'harga', 'tiket', 'MRT', 'Jakarta', 'dinaikkan', 'gantinya', 'keretanya', 'diperbanyak', 'Jadi', 'pengguna', 'mobil', 'motor', 'mau', 'beralih', 'Bila', 'pengguna', 'mobil', 'beralih', 'MRT', 'sama', 'tetap', 'macet', 'Trotoar', 'Park', '&', 'Ride', 'dikasih', 'atap', 'dong', 'kalo', 'Hujan', 'gmn', 'tuh', 'tar', 'Jangan', 'yg', 'poins', 'square', 'aja', 'yg', 'dikasih', 'atap', 'Jauh', 'loh', '500m', 'kali', 'gak', 'usah', 'dihimbau', 'himbau', 'kalau', 'memang', 'aturannya', 'dilarang', 'didenda', 'aja', 'penegakan', 'peraturan', 'pakai', 'bahasa', 'yg', 'tegas', 'bahasa', 'yg', 'lembek', 'sama', 'artinya', 'lembek', 'penegakan', 'peraturan', 'Sistem', 'yg', 'sangat', 'aneh', 'Masak', 'turun', 'dr', 'halte', 'busway', 'HI', 'lanjut', 'MRT', 'kartu', 'flazz', 'nya', 'gak', 'dipake', 'MRT', 'dgn', 'alasan', 'yg', 'sama', 'Pdhal', 'kan', 'pas', 'mau', 'msk', 'sta', 'MRT', 'nya', 'nge', 'tap', 'keluar', 'dr', 'halte', 'busway', 'hitungannya', 'Ttp', 'aja', 'dianggap', 'sdh', 'nge', 'tap', 'stasiun', 'yg', 'sama', 'Fix', 'this', 'please!'] \n\n"
    }
   ],
   "source": [
    "print(\"filtering : \", memfilter(word_tokenized), \"\\n\")"
   ]
  },
  {
   "cell_type": "markdown",
   "metadata": {},
   "source": [
    "### Stemming + filter stop words. Sisa kata unik"
   ]
  },
  {
   "cell_type": "code",
   "execution_count": 17,
   "metadata": {},
   "outputs": [
    {
     "name": "stdout",
     "output_type": "stream",
     "text": "374 \nstemming :  {'', 'meski', 'public', 'jam', 'temu', 'hi', 'travel', 'masak', 'trus', 'rata', 'tar', 'ny', 'mrt', 'tugas', 'loh', 'bila', 'info', 'bundar', 'kali', 'pulang', 'yaa', 'gmn', 'muas', 'untung', 'kantor', 'asal', 'orang', 'rem', 'suka', 'track', 'mikir', 'atas', 'asyik', 'setia', 'budi', 'astra', 'terus', 'move', 'infrastruktur', 'layan', 'pdhal', 'usul', 'denda', 'senang', 'lanjut', 'nyaman', 'nih', 'istora', 'panas', 'masuk', 'bagi', 'baca', 'salah', 'busway', 'w', 'kereta', 'dingin', 'nasib', 'bilang', 'hihi', 'berisik', 'dipake', 'papan', 'alas', 'termos', 'do', '14rb', '500m', 'cas', 'larang', 'anggap', 'nyata', 'kartu', 'shinkansen', 'doang', 'tiket', 'keren', 'bawa', 'barusan', 'laju', 'sistem', 'mobil', 'tumpang', 'arti', 'tahan', 'mati', 'bgt', 'jkt', 'segala', 'dgn', 'dihimbau', 'tolong', 'nomor', 'yg', 'gate', 'kata', 'dulu', 'udahlah', 'sepeda', 'jadi', 'mbl', '2', 'trip', 'sll', 'nyala', 'ambil', 'ide', 'tarik', 'adu', 'turun', 'teknologi', 'fungsi', 'jauh', 'buka', 'akselerasi', 'bikin', 'kemarin', 'mohon', 'dar', 'sejak', 'naik', 'tau', 'ramah', 'bapuk', 'at', 'manajemen', 'macet', '00', 'agar', 'mesing', 'langgar', 'gunting', 'mrtjakarta', 'stasiun', 'benerin', 'khawatir', 'tagih', 'guna', 'bs', 'makin', 'sesuai', 'sekitar', 'lalu', 'rumah', 'lokasi', 'ngantri', 'buat', 'bayar', 'berangkat', 'sangat', 'tiba2', 'ken', 'kan', 'memang', 'toilet', 'simpel2', 'sendiri', 'kemudian', 'neng', 'sta', 'trs', 'slab', 'hsr', 'kadang', 'getar', 'least', 'hitung', 'i', 'bantal', 'ganti', 'bahasa', 'tegas', 'ray', 'trotoar', 'kagum', 'apa', 'st', 'tuh', 'kaya', 'sdh', 'motor', 'atur', 'dah', 'rel', 'sampe', 'melulu', 'x', 'permisi', 'pdhl', 'kalau', 'tap', 'daerah', 'usah', 'terimakasih', 'park', 'main', 'kami', 'tinggal', 'emoney', 'hubung', 'segera', 'tp', 'open', 'tdk', 'dukuh', 'minta', 'cor', 'tutup', 'laptop', 'gang', 'hambat', 'jelas', 'mau', 'hujan', 'emng', 'aktifitas', 'transportasi', 'program', '27', 'dong', 'kena', 'depan', 'guncang', 'cari', 'kalimat', 'suruh', 'this', 'ga', 'harus', 'ac', 'banahi', 'gak', 'bos', 'or', 'tas', 'before', 'harga', 'scanning', 'tiap', 'tadi', 'saya', 'sayang', 'himbau', 'tgl', 'bisa', 'ada', 'sejajar', 'bersih', 'sama', 'alih', 'terlalu', 'atap', 'bukan', 'umum', 'gara2', 'halus', 'asa', 'overseas', 'tega', 'bni', 'transjakarta', 'pental', 'hari', 'kasih', 'tilik', 'cepet', 'banget', 'banyak', 'jaga', 'commuting', 'arah', 'dkijakarta', 'ini', 'biar', 'error', 'min', 'gimana', 'resleting', 'gitu', 'mesti', 'akses', 'poins', 'hampir', 'lebih', 'aman', 'msk', 'waktu', 'announcement', 'aku', 'sih', 'satpol', 'sep', 'station', 'please', 'hallo', 'jakarta', 'ubah', 'jd', 'selalu', 'parkir', 'pintu', 'g', 'balim', 'tetap', 'murah', 'fix', 'emang', 'informasi', 'nge', 'bus', 'musik', 'jgn', 'ride', 'gw', 'mantap', 'flazz', 'kalo', '14', 'baik', 'area', 'cipete', 'agara', 'pagi', 'square', 'udah', 'pp', 'dear', 'pas', 'berhari2', 'kerja', 'nya', 'masyarakat', 'keluar', 'lama', 'negara', 'lembek', 'beton', 'polisi', 'mesin', 'transit', 'thx', 'benar cepat', 'aneh', 'diri', 'tanya', 'jangan', 'pake', 'single', 'headset', 'when', 'halte', 'on', 'halo', 'pakai', 'dr', 'that', 'suara', 'ttp', 'bangga', 'sering', 'sekarang', 'tepat', 'nyambung', 'buku', 'security', 'teman', 'aja', 'norak', 'maasyaallah', 'kuping', 'emg', 'bertele2', 'pasang', 'posisi'} \n\n"
    }
   ],
   "source": [
    "wordset = set(menstem((word_tokenized)))\n",
    "print(len(wordset), \"\\nstemming : \", wordset, \"\\n\")"
   ]
  },
  {
   "cell_type": "code",
   "execution_count": 18,
   "metadata": {},
   "outputs": [
    {
     "data": {
      "text/plain": "['',\n '00',\n '14',\n '14rb',\n '2',\n '27',\n '500m',\n 'ac',\n 'ada',\n 'adu',\n 'agar',\n 'agara',\n 'aja',\n 'akselerasi',\n 'akses',\n 'aktifitas',\n 'aku',\n 'alas',\n 'alih',\n 'aman',\n 'ambil',\n 'aneh',\n 'anggap',\n 'announcement',\n 'apa',\n 'arah',\n 'area',\n 'arti',\n 'asa',\n 'asal',\n 'astra',\n 'asyik',\n 'at',\n 'atap',\n 'atas',\n 'atur',\n 'baca',\n 'bagi',\n 'bahasa',\n 'baik',\n 'balim',\n 'banahi',\n 'banget',\n 'bangga',\n 'bantal',\n 'banyak',\n 'bapuk',\n 'barusan',\n 'bawa',\n 'bayar',\n 'before',\n 'benar cepat',\n 'benerin',\n 'berangkat',\n 'berhari2',\n 'berisik',\n 'bersih',\n 'bertele2',\n 'beton',\n 'bgt',\n 'biar',\n 'bikin',\n 'bila',\n 'bilang',\n 'bisa',\n 'bni',\n 'bos',\n 'bs',\n 'buat',\n 'budi',\n 'buka',\n 'bukan',\n 'buku',\n 'bundar',\n 'bus',\n 'busway',\n 'cari',\n 'cas',\n 'cepet',\n 'cipete',\n 'commuting',\n 'cor',\n 'daerah',\n 'dah',\n 'dar',\n 'dear',\n 'denda',\n 'depan',\n 'dgn',\n 'dihimbau',\n 'dingin',\n 'dipake',\n 'diri',\n 'dkijakarta',\n 'do',\n 'doang',\n 'dong',\n 'dr',\n 'dukuh',\n 'dulu',\n 'emang',\n 'emg',\n 'emng',\n 'emoney',\n 'error',\n 'fix',\n 'flazz',\n 'fungsi',\n 'g',\n 'ga',\n 'gak',\n 'gang',\n 'ganti',\n 'gara2',\n 'gate',\n 'getar',\n 'gimana',\n 'gitu',\n 'gmn',\n 'guna',\n 'guncang',\n 'gunting',\n 'gw',\n 'hallo',\n 'halo',\n 'halte',\n 'halus',\n 'hambat',\n 'hampir',\n 'harga',\n 'hari',\n 'harus',\n 'headset',\n 'hi',\n 'hihi',\n 'himbau',\n 'hitung',\n 'hsr',\n 'hubung',\n 'hujan',\n 'i',\n 'ide',\n 'info',\n 'informasi',\n 'infrastruktur',\n 'ini',\n 'istora',\n 'jadi',\n 'jaga',\n 'jakarta',\n 'jam',\n 'jangan',\n 'jauh',\n 'jd',\n 'jelas',\n 'jgn',\n 'jkt',\n 'kadang',\n 'kagum',\n 'kalau',\n 'kali',\n 'kalimat',\n 'kalo',\n 'kami',\n 'kan',\n 'kantor',\n 'kartu',\n 'kasih',\n 'kata',\n 'kaya',\n 'keluar',\n 'kemarin',\n 'kemudian',\n 'ken',\n 'kena',\n 'keren',\n 'kereta',\n 'kerja',\n 'khawatir',\n 'kuping',\n 'laju',\n 'lalu',\n 'lama',\n 'langgar',\n 'lanjut',\n 'laptop',\n 'larang',\n 'layan',\n 'least',\n 'lebih',\n 'lembek',\n 'loh',\n 'lokasi',\n 'maasyaallah',\n 'macet',\n 'main',\n 'makin',\n 'manajemen',\n 'mantap',\n 'masak',\n 'masuk',\n 'masyarakat',\n 'mati',\n 'mau',\n 'mbl',\n 'melulu',\n 'memang',\n 'mesin',\n 'mesing',\n 'meski',\n 'mesti',\n 'mikir',\n 'min',\n 'minta',\n 'mobil',\n 'mohon',\n 'motor',\n 'move',\n 'mrt',\n 'mrtjakarta',\n 'msk',\n 'muas',\n 'murah',\n 'musik',\n 'naik',\n 'nasib',\n 'negara',\n 'neng',\n 'ngantri',\n 'nge',\n 'nih',\n 'nomor',\n 'norak',\n 'ny',\n 'nya',\n 'nyala',\n 'nyaman',\n 'nyambung',\n 'nyata',\n 'on',\n 'open',\n 'or',\n 'orang',\n 'overseas',\n 'pagi',\n 'pakai',\n 'pake',\n 'panas',\n 'papan',\n 'park',\n 'parkir',\n 'pas',\n 'pasang',\n 'pdhal',\n 'pdhl',\n 'pental',\n 'permisi',\n 'pintu',\n 'please',\n 'poins',\n 'polisi',\n 'posisi',\n 'pp',\n 'program',\n 'public',\n 'pulang',\n 'ramah',\n 'rata',\n 'ray',\n 'rel',\n 'rem',\n 'resleting',\n 'ride',\n 'rumah',\n 'salah',\n 'sama',\n 'sampe',\n 'sangat',\n 'satpol',\n 'saya',\n 'sayang',\n 'scanning',\n 'sdh',\n 'security',\n 'segala',\n 'segera',\n 'sejajar',\n 'sejak',\n 'sekarang',\n 'sekitar',\n 'selalu',\n 'senang',\n 'sendiri',\n 'sep',\n 'sepeda',\n 'sering',\n 'sesuai',\n 'setia',\n 'shinkansen',\n 'sih',\n 'simpel2',\n 'single',\n 'sistem',\n 'slab',\n 'sll',\n 'square',\n 'st',\n 'sta',\n 'stasiun',\n 'station',\n 'suara',\n 'suka',\n 'suruh',\n 'tadi',\n 'tagih',\n 'tahan',\n 'tanya',\n 'tap',\n 'tar',\n 'tarik',\n 'tas',\n 'tau',\n 'tdk',\n 'tega',\n 'tegas',\n 'teknologi',\n 'teman',\n 'temu',\n 'tepat',\n 'terimakasih',\n 'terlalu',\n 'termos',\n 'terus',\n 'tetap',\n 'tgl',\n 'that',\n 'this',\n 'thx',\n 'tiap',\n 'tiba2',\n 'tiket',\n 'tilik',\n 'tinggal',\n 'toilet',\n 'tolong',\n 'tp',\n 'track',\n 'transit',\n 'transjakarta',\n 'transportasi',\n 'travel',\n 'trip',\n 'trotoar',\n 'trs',\n 'trus',\n 'ttp',\n 'tugas',\n 'tuh',\n 'tumpang',\n 'turun',\n 'tutup',\n 'ubah',\n 'udah',\n 'udahlah',\n 'umum',\n 'untung',\n 'usah',\n 'usul',\n 'w',\n 'waktu',\n 'when',\n 'x',\n 'yaa',\n 'yg']"
     },
     "execution_count": 18,
     "metadata": {},
     "output_type": "execute_result"
    }
   ],
   "source": [
    "sorted(wordset)"
   ]
  },
  {
   "cell_type": "markdown",
   "metadata": {},
   "source": [
    "## Mencari TF"
   ]
  },
  {
   "cell_type": "markdown",
   "metadata": {},
   "source": [
    "### Mengumpulkan seluruh kata dalam kalimat pada list"
   ]
  },
  {
   "cell_type": "code",
   "execution_count": 19,
   "metadata": {},
   "outputs": [],
   "source": [
    "sentences = []\n",
    "words = []\n",
    "freqs = []\n",
    "\n",
    "for i, val in enumerate(desc):\n",
    "    sentences.append(val)\n",
    "\n",
    "for i, val in enumerate(sentences):\n",
    "    words.append(sentences[i].split())"
   ]
  },
  {
   "cell_type": "markdown",
   "metadata": {},
   "source": [
    "### Menghitung frekuensi kata unik pada dokumen"
   ]
  },
  {
   "cell_type": "code",
   "execution_count": 20,
   "metadata": {},
   "outputs": [],
   "source": [
    "for i, val in enumerate(sentences):    \n",
    "    freqs.append(getFreq(dict.fromkeys(wordset, 0), menstem(words[i])))"
   ]
  },
  {
   "cell_type": "markdown",
   "metadata": {},
   "source": [
    "### TF Tables"
   ]
  },
  {
   "cell_type": "code",
   "execution_count": 13,
   "metadata": {},
   "outputs": [
    {
     "name": "stdout",
     "output_type": "stream",
     "text": "TF\n       meski  public  jam  temu  hi  travel  masak  trus  rata  ...  security  \\\n0   0      0       0    0     0   0       0      0     0     0  ...         0   \n1   0      0       0    0     0   0       0      0     0     0  ...         0   \n2   0      0       0    0     0   0       0      0     0     0  ...         0   \n3   0      0       0    0     0   0       0      0     0     0  ...         0   \n4   0      0       0    1     0   0       0      0     0     0  ...         1   \n5   0      0       0    0     0   0       0      0     0     0  ...         0   \n6   0      0       0    0     0   0       0      0     0     0  ...         0   \n7   0      0       0    0     0   0       0      0     0     0  ...         0   \n8   0      0       0    0     0   0       0      0     0     0  ...         0   \n9   0      0       0    0     0   0       0      0     0     0  ...         0   \n10  0      0       0    0     0   0       0      0     0     0  ...         0   \n11  0      0       0    0     0   0       0      0     0     0  ...         0   \n12  0      1       0    0     0   0       0      0     0     1  ...         0   \n13  0      0       0    0     0   0       0      0     0     0  ...         0   \n14  0      0       0    0     0   0       0      0     0     0  ...         0   \n15  0      0       0    0     1   0       0      0     0     0  ...         0   \n16  0      0       0    0     0   0       0      0     0     0  ...         0   \n17  0      0       0    0     0   0       0      0     0     0  ...         0   \n18  0      0       0    0     0   0       0      0     0     0  ...         0   \n19  0      0       0    0     0   0       0      0     0     0  ...         0   \n20  0      0       0    0     0   0       0      0     0     0  ...         0   \n21  0      0       0    1     0   0       0      0     0     0  ...         0   \n22  0      0       0    0     0   1       0      0     1     0  ...         0   \n23  0      0       1    0     0   0       1      0     0     0  ...         0   \n24  0      0       0    0     0   0       0      0     0     0  ...         0   \n25  1      0       0    0     0   0       0      0     0     0  ...         0   \n26  0      0       0    0     0   0       0      0     0     0  ...         0   \n27  1      0       0    0     0   0       0      0     0     0  ...         0   \n28  0      0       0    0     0   0       0      0     0     0  ...         0   \n29  0      0       0    0     0   1       0      1     0     0  ...         0   \n\n    teman  aja  norak  maasyaallah  kuping  emg  bertele2  pasang  posisi  \n0       0    0      0            0       0    0         0       0       0  \n1       0    0      0            0       0    0         0       0       0  \n2       0    0      0            0       0    0         0       0       0  \n3       0    0      0            0       0    0         0       0       0  \n4       0    0      0            0       0    0         0       0       0  \n5       0    1      0            0       0    0         0       0       0  \n6       0    0      0            0       0    0         0       0       0  \n7       0    0      0            1       0    0         0       0       0  \n8       0    0      0            0       0    0         0       0       0  \n9       0    0      0            0       0    0         0       0       0  \n10      1    1      1            0       0    0         0       0       0  \n11      0    0      0            0       0    0         0       0       0  \n12      0    0      0            0       0    0         0       0       1  \n13      0    0      0            0       0    0         0       0       0  \n14      0    0      0            0       0    0         0       0       0  \n15      0    0      0            0       0    0         0       1       0  \n16      0    2      0            0       1    0         1       0       0  \n17      0    0      0            0       0    0         0       0       0  \n18      0    0      0            0       0    0         0       0       0  \n19      0    0      0            0       0    0         0       0       0  \n20      0    0      0            0       0    1         0       0       0  \n21      0    0      0            0       0    0         0       0       0  \n22      0    0      0            0       0    0         0       0       0  \n23      0    0      0            0       0    0         0       0       0  \n24      0    1      0            0       0    0         0       0       0  \n25      0    0      0            0       0    0         0       0       0  \n26      0    0      0            0       0    0         0       0       0  \n27      0    1      0            0       0    0         0       0       0  \n28      0    1      0            0       0    0         0       0       0  \n29      0    1      0            0       0    0         0       0       0  \n\n[30 rows x 374 columns]\n\n\n"
    }
   ],
   "source": [
    "print(\"TF\")\n",
    "for i, val in enumerate(freqs):\n",
    "    tf = pd.DataFrame([freqs[i\n",
    "    ]])\n",
    "tf = pd.DataFrame(freqs)\n",
    "print(tf)\n",
    "print('\\n')\n",
    "# print(tf.columns.values)"
   ]
  },
  {
   "cell_type": "markdown",
   "metadata": {},
   "source": [
    "### Menghitung nilai |V| dan jumlah seluruh kata pada kategori positif dan negatif"
   ]
  },
  {
   "cell_type": "code",
   "execution_count": 14,
   "metadata": {},
   "outputs": [
    {
     "name": "stdout",
     "output_type": "stream",
     "text": "239\n370\n"
    }
   ],
   "source": [
    "verbs = len(wordset)\n",
    "# desc1 = data.loc[:,['Komentar','Hasil Akhir']]\n",
    "# print(desc1)\n",
    "#pre processing kata dalam kategori positif\n",
    "dataset = data.loc[:, [\"Komentar\",\"Hasil Akhir\"]]\n",
    "df = pd.DataFrame(dataset)\n",
    "dataset_positif = df.loc[df[\"Hasil Akhir\"] == \"Positif\"][\"Komentar\"].values.tolist()\n",
    "\n",
    "for i, val in enumerate(dataset_positif):\n",
    "    dataset_positif[i] = (\n",
    "        val.replace(\";\", \"\")\n",
    "        .replace(\",\", \"\")\n",
    "        .replace(\".\", \"\")\n",
    "        .replace(\"?\", \"\")\n",
    "        .replace(\"-\", \" \")\n",
    "        .replace(\"/\", \" \")\n",
    "        .replace(\"(\", \"\")\n",
    "        .replace(\")\", \"\")\n",
    "    )\n",
    "\n",
    "word_tokenized_positif = tokenisasi_kata(dataset_positif)\n",
    "filtered_word_positif = memfilter(word_tokenized_positif)\n",
    "wordset_positif = menstem((word_tokenized_positif))\n",
    "count_positif = len(wordset_positif)\n",
    "print(count_positif)\n",
    "#pre processing kata dalam kategori negatif\n",
    "dataset_negatif = df.loc[df[\"Hasil Akhir\"] == \"Negatif\"][\"Komentar\"].values.tolist()\n",
    "for i, val in enumerate(dataset_negatif):\n",
    "    dataset_negatif[i] = (\n",
    "        val.replace(\";\", \"\")\n",
    "        .replace(\",\", \"\")\n",
    "        .replace(\".\", \"\")\n",
    "        .replace(\"?\", \"\")\n",
    "        .replace(\"-\", \" \")\n",
    "        .replace(\"/\", \" \")\n",
    "        .replace(\"(\", \"\")\n",
    "        .replace(\")\", \"\")\n",
    "    )\n",
    "\n",
    "word_tokenized_negatif = tokenisasi_kata(dataset_negatif)\n",
    "filtered_word_negatif = memfilter(word_tokenized_negatif)\n",
    "wordset_negatif = menstem((word_tokenized_negatif))\n",
    "count_negatif = len(wordset_negatif)\n",
    "print(count_negatif)"
   ]
  }
 ],
 "metadata": {
  "kernelspec": {
   "display_name": "Python 3",
   "language": "python",
   "name": "python3"
  },
  "language_info": {
   "codemirror_mode": {
    "name": "ipython",
    "version": 3
   },
   "file_extension": ".py",
   "mimetype": "text/x-python",
   "name": "python",
   "nbconvert_exporter": "python",
   "pygments_lexer": "ipython3",
   "version": "3.6.1"
  }
 },
 "nbformat": 4,
 "nbformat_minor": 2
}